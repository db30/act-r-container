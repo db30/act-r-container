{
 "cells": [
  {
   "cell_type": "markdown",
   "metadata": {},
   "source": [
    "## Run the ACT-R tutorial unit 7 models in Python"
   ]
  }, {
   "cell_type": "markdown",
   "metadata": {},
   "source": [
    "Here are links to open the ACT-R Environment GUI and an Experiment window viewer if needed\n",
    "\n",
    "[Open ACT-R Environment GUI](./env-link.html)\n",
    "\n",
    "[View ACT-R Experiment Window](./exp-link.html)\n"]
  },

 {
   "cell_type": "markdown",
   "metadata": {},
   "source": [
    "### Paired associate learning from instructions model and task"]
 },

 {
   "cell_type": "markdown",
   "metadata": {},
   "source": [
    "Run the first cell below to connect to ACT-R, load the task, and then load the model.  \n",
    "Run the second cell to have the model learn a given number of pairs over a specified number of trials, and run the third cell to have the model perform the whole experiment the indicated number of times."
  },

  {
   "cell_type": "code",
   "execution_count": null,
   "metadata": {},
   "outputs": [],
   "source": [
    "import actr\n",
    "import paired\n",
    "actr.load_act_r_model('ACT-R:tutorial;unit7;paired-learning-model.lisp')"
   ]
  },
  {
   "cell_type": "code",
   "execution_count": null,
   "metadata": {},
   "outputs": [],
   "source": [
    "paired.task(2,3)"
   ]
  },
  {
   "cell_type": "code",
   "execution_count": null,
   "metadata": {},
   "outputs": [],
   "source": [
    "paired.experiment(10)"
   ]
  }, 



{
   "cell_type": "markdown",
   "metadata": {},
   "source": [
    "### Past Tense assignment"]
 },

 {
   "cell_type": "markdown",
   "metadata": {},
   "source": [
    "The model file for the experiment is actr7.x/tutorial/unit7/past-tense-model.lisp.  \n",
    "You can open that file to work on the model using the File:Open menu in the Jupyter interface.  \n",
    "Run the first cell below to connect to ACT-R and load the task and model.  \n",
    "Run the second cell to run the model for the specified number of trials (the additional parameters described in the unit to continue from where it left off and to show the trace can also be added).  \n",
    "Run the third cell to display the results and draw the graph (if the experiment viewer window is open) after the model has been run for at least 1000 trials.  \n"
  },
  
 {
   "cell_type": "code",
   "execution_count": null,
   "metadata": {},
   "outputs": [],
   "source": [
    "import actr\n",
    "import past_tense"
   ]
  },
  {
   "cell_type": "code",
   "execution_count": null,
   "metadata": {},
   "outputs": [],
   "source": [
    "past_tense.trials(100)"
   ]
  },
  {
   "cell_type": "code",
   "execution_count": null,
   "metadata": {},
   "outputs": [],
   "source": [
    "past_tense.results()"
   ]
  }
 ],
 "metadata": {
  "kernelspec": {
   "display_name": "Python 3",
   "language": "python",
   "name": "python3"
  },
  "language_info": {
   "codemirror_mode": {
    "name": "ipython",
    "version": 3
   },
   "file_extension": ".py",
   "mimetype": "text/x-python",
   "name": "python",
   "nbconvert_exporter": "python",
   "pygments_lexer": "ipython3",
   "version": "3.7.9"
  }
 },
 "nbformat": 4,
 "nbformat_minor": 4
}
