{
 "cells": [
  {
   "cell_type": "markdown",
   "metadata": {},
   "source": [
    "## Run the ACT-R tutorial unit 4 models in Python"
   ]
  },
  {
   "cell_type": "markdown",
   "metadata": {},
   "source": [
    "Here are links to open the ACT-R Environment GUI and an Experiment window viewer if needed\n",
    "\n",
    "[Open ACT-R Environment GUI](./env-link.html)\n",
    "\n",
    "[View ACT-R Experiment Window](./exp-link.html)\n"
   ]
  },
  {
   "cell_type": "markdown",
   "metadata": {},
   "source": [
    "### Paired associate model and task"
   ]
  },
  {
   "cell_type": "markdown",
   "metadata": {},
   "source": [
    "Run the first cell below to connect to ACT-R and load the task and model.  \n",
    "Run the second cell to have the model learn a given number of pairs over a specified number of trials, and run the third cell to have the model perform the whole experiment the indicated number of times.  \n",
    " You should turn off the trace in the model before running the whole experiment to avoid a long delay and excesive amount of trace information."
   ]
  },
  {
   "cell_type": "code",
   "execution_count": null,
   "metadata": {},
   "outputs": [],
   "source": [
    "import actr\n",
    "import paired"
   ]
  },
  {
   "cell_type": "code",
   "execution_count": null,
   "metadata": {},
   "outputs": [],
   "source": [
    "paired.task(2,3)"
   ]
  },
  {
   "cell_type": "code",
   "execution_count": null,
   "metadata": {},
   "outputs": [],
   "source": [
    "paired.experiment(1)"
   ]
  }, 
  {
   "cell_type": "markdown",
   "metadata": {},
   "source": [
    "### Zbrodoff assignment model and task"
   ]
  },
  {
   "cell_type": "markdown",
   "metadata": {},
   "source": [
    "The model file for the experiment is actr7.x/tutorial/unit4/zbrodoff-model.lisp.\n",
    "\n",
    "You can open that file to work on the model using the File:Open menu in the Jupyter interface.\n",
    "\n",
    "Run the first cell below to connect to ACT-R and load the task and model.\n",
    "\n",
    "Run the second cell to have the model perform one trial of the task with the indicated stimuli (as described in the tutorial unit), the third runs the model through one set of items, the fourth one block, the fifth the whole experiment once, and the sixth the experiment the specified number of times reporting the averaged data and their fit to the experimental results.\n",
    "\n",
    "If you change the model then you will need to run the fourth cell to reload the model, or you can press the Reload button in the ACT-R Environment GUI to have the updated model loaded.\n"
   ]
  },
  {
   "cell_type": "code",
   "execution_count": null,
   "metadata": {},
   "outputs": [],
   "source": [
    "import actr\n",
    "import zbrodoff"
   ]
  },
  {
   "cell_type": "code",
   "execution_count": null,
   "metadata": {},
   "outputs": [],
   "source": [
    "zbrodoff.problem('a','2','c','k',True)"
   ]
  },
  {
   "cell_type": "code",
   "execution_count": null,
   "metadata": {},
   "outputs": [],
   "source": [
    "zbrodoff.set()"
   ]
  },
  {
   "cell_type": "code",
   "execution_count": null,
   "metadata": {},
   "outputs": [],
   "source": [
    "zbrodoff.block()"
   ]
  },
  {
   "cell_type": "code",
   "execution_count": null,
   "metadata": {},
   "outputs": [],
   "source": [
    "zbrodoff.experiment()"
   ]
  },
  {
   "cell_type": "code",
   "execution_count": null,
   "metadata": {},
   "outputs": [],
   "source": [
    "zbrodoff.compare(5)"
   ]
  },
  {
   "cell_type": "code",
   "execution_count": null,
   "metadata": {},
   "outputs": [],
   "source": [
    "actr.reload()"
   ]
  }
 ],
 "metadata": {
  "kernelspec": {
   "display_name": "Python 3",
   "language": "python",
   "name": "python3"
  },
  "language_info": {
   "codemirror_mode": {
    "name": "ipython",
    "version": 3
   },
   "file_extension": ".py",
   "mimetype": "text/x-python",
   "name": "python",
   "nbconvert_exporter": "python",
   "pygments_lexer": "ipython3",
   "version": "3.7.9"
  }
 },
 "nbformat": 4,
 "nbformat_minor": 4
}
