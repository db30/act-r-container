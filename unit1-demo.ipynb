{
 "cells": [
  {
   "cell_type": "markdown",
   "metadata": {},
   "source": [
    "## Run ACT-R tutorial unit 1 models"
   ]
  },
  {
   "cell_type": "markdown",
   "metadata": {},
   "source": [
    "Open the ACT-R Environment GUI in another tab by clicking the link below then come back to this tab.  \n",
    "[Open ACT-R Environment GUI](./env-link.html)"
   ]
  },
  {
   "cell_type": "markdown",
   "metadata": {},
   "source": [
    "Run the cell below so that you can see the model output.\n",
    "Then, pick a model and run it with these steps:  \n",
    "    \n",
    "    Go to the window/tab with the ACT-R Environment GUI\n",
    "    \n",
    "    Click the -Select Unit 1 model- dropdown and pick a model\n",
    "    \n",
    "    Press the Load Tutorial Model button\n",
    "    \n",
    "    Press the OK button in the dialog that says successful load\n",
    "    \n",
    "    Press the run button  \n",
    "    \n",
    "    \n",
    "You can then come back to this window and see the trace of the run.\n",
    "\n",
    "If you wanted to do the tutored production instantiation from the tutorial, you can open the stepper, select tutor mode, reset the model, and run it again."
   ]
  },
  {
   "cell_type": "code",
   "execution_count": null,
   "metadata": {},
   "outputs": [],
   "source": [
    "import actr"
   ]
  }
 ],
 "metadata": {
  "kernelspec": {
   "display_name": "Python 3",
   "language": "python",
   "name": "python3"
  },
  "language_info": {
   "codemirror_mode": {
    "name": "ipython",
    "version": 3
   },
   "file_extension": ".py",
   "mimetype": "text/x-python",
   "name": "python",
   "nbconvert_exporter": "python",
   "pygments_lexer": "ipython3",
   "version": "3.7.9"
  }
 },
 "nbformat": 4,
 "nbformat_minor": 4
}
