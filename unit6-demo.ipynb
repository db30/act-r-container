{
 "cells": [
  {
   "cell_type": "markdown",
   "metadata": {},
   "source": [
    "## Run the ACT-R tutorial unit 6 models in Python"
   ]
  }, {
   "cell_type": "markdown",
   "metadata": {},
   "source": [
    "Here are links to open the ACT-R Environment GUI and an Experiment window viewer if needed\n",
    "\n",
    "[Open ACT-R Environment GUI](./env-link.html)\n",
    "\n",
    "[View ACT-R Experiment Window](./exp-link.html)\n"]
  },
{
   "cell_type": "markdown",
   "metadata": {},
   "source": [
    "### Building Sticks Task"]
 },
 {
   "cell_type": "markdown",
   "metadata": {},
   "source": [
    "To be able to perform the task or watch the model perform it open an Experiment window viewer if there isn't one open  \n",
    "[View ACT-R Experiment Window](./exp-link.html)  \n",
    "Run the first cell below to connect to ACT-R and load the task.  \n",
    "Run the second cell to go through two trials of the task yourself in the Experiment Window.  \n",
    "Run the third cell to have the model perform two trials of the task which you can watch in the Experiment Window.  \n",
    "Run the fourth cell to have the model perform the whole experiment the indicated number of times and report the average results."

   ]
  },
 
  {
   "cell_type": "code",
   "execution_count": null,
   "metadata": {},
   "outputs": [],
   "source": [
    "import actr\n",
    "import bst"
   ]
  },
  {
   "cell_type": "code",
   "execution_count": null,
   "metadata": {},
   "outputs": [],
   "source": [
    "bst.test(1,True)"
   ]
  },
  {
   "cell_type": "code",
   "execution_count": null,
   "metadata": {},
   "outputs": [],
   "source": [
    "bst.test(1,False)"
   ]
  },
  {
   "cell_type": "code",
   "execution_count": null,
   "metadata": {},
   "outputs": [],
   "source": [
    "bst.experiment(25)"
   ]
  }, {
   "cell_type": "markdown",
   "metadata": {},
   "source": [
    "### Choice assignment"]
 },
 {
   "cell_type": "markdown",
   "metadata": {},
   "source": [
    "The model file for the experiment is actr7.x/tutorial/unit6/choice-model.lisp, and the start of the task code is in the file actr7.x/tutorial/python/choice.py.  \n",
    "You can open those files to work on the task and model using the File:Open menu in the Jupyter interface.  \n",
    "Run the first cell below to connect to ACT-R and load the task and model.  \n",
    "Run the second cell to call your model function which should run your model through one trial of the task.  \n",
    "Run the third cell to call your data function which should run your model through the experiment the indicated number of times and report the average results and fit to the data.  \n"
  },
  
 {
   "cell_type": "code",
   "execution_count": null,
   "metadata": {},
   "outputs": [],
   "source": [
    "import actr\n",
    "import choice"
   ]
  },
  {
   "cell_type": "code",
   "execution_count": null,
   "metadata": {},
   "outputs": [],
   "source": [
    "choice.model()"
   ]
  },
  {
   "cell_type": "code",
   "execution_count": null,
   "metadata": {},
   "outputs": [],
   "source": [
    "choice.data(10)"
   ]
  }
 ],
 "metadata": {
  "kernelspec": {
   "display_name": "Python 3",
   "language": "python",
   "name": "python3"
  },
  "language_info": {
   "codemirror_mode": {
    "name": "ipython",
    "version": 3
   },
   "file_extension": ".py",
   "mimetype": "text/x-python",
   "name": "python",
   "nbconvert_exporter": "python",
   "pygments_lexer": "ipython3",
   "version": "3.7.9"
  }
 },
 "nbformat": 4,
 "nbformat_minor": 4
}
