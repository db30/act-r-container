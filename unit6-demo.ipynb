{
 "cells": [
  {
   "cell_type": "markdown",
   "metadata": {},
   "source": [
    "## Run the ACT-R tutorial unit 6 Building Sticks Task in Python"
   ]
  },
 {
   "cell_type": "markdown",
   "metadata": {},
   "source": [
    "To be able to perform the task open an Experiment window viewer if there isn't one open  \n",
    "[View ACT-R Experiment Window](./exp-link.html)  \n",
    "Run the first cell below to connect to ACT-R and load the task.  \n",
    "Run the second cell to go through two trials of the task yourself in the Experiment Window.  \n",
    "Run the third cell to have the model perform two trials of the task which you can watch in the Experiment Window."
   ]
  },
  {
   "cell_type": "code",
   "execution_count": null,
   "metadata": {},
   "outputs": [],
   "source": [
    "import actr\n",
    "import bst"
   ]
  },
  {
   "cell_type": "code",
   "execution_count": null,
   "metadata": {},
   "outputs": [],
   "source": [
    "bst.test(1,True)"
   ]
  },
  {
   "cell_type": "code",
   "execution_count": null,
   "metadata": {},
   "outputs": [],
   "source": [
    "bst.test(1,False)"
   ]
  }

 ],
 "metadata": {
  "kernelspec": {
   "display_name": "Python 3",
   "language": "python",
   "name": "python3"
  },
  "language_info": {
   "codemirror_mode": {
    "name": "ipython",
    "version": 3
   },
   "file_extension": ".py",
   "mimetype": "text/x-python",
   "name": "python",
   "nbconvert_exporter": "python",
   "pygments_lexer": "ipython3",
   "version": "3.7.9"
  }
 },
 "nbformat": 4,
 "nbformat_minor": 4
}
