{
 "cells": [
  {
   "cell_type": "markdown",
   "metadata": {},
   "source": [
    "## Run the ACT-R tutorial unit 2 models in Python"
   ]
  },
  {
   "cell_type": "markdown",
   "metadata": {},
   "source": [
    "If you want to use the Stepper to go through the task you can open a new ACT-R Environment GUI or use one that you opened previously\n",
    "\n",
    "[Open ACT-R Environment GUI](./env-link.html)\n",
    "\n",
    "If you want to see the task and model's visual attention marker open an Experiment window viewer\n",
    "\n",
    "[View ACT-R Experiment Window](./exp-link.html)\n"
   ]
  },
  {
   "cell_type": "markdown",
   "metadata": {},
   "source": [
    "### Demo2 model and task"
   ]
  },
  {
   "cell_type": "markdown",
   "metadata": {},
   "source": [
    "Run the first cell below to connect to ACT-R and load the task and model.\n",
    "\n",
    "Run the second cell to have the model perform the task."
   ]
  },
  {
   "cell_type": "code",
   "execution_count": null,
   "metadata": {},
   "outputs": [],
   "source": [
    "import actr\n",
    "import demo2"
   ]
  },
  {
   "cell_type": "code",
   "execution_count": null,
   "metadata": {},
   "outputs": [],
   "source": [
    "demo2.experiment()"
   ]
  },
  {
   "cell_type": "markdown",
   "metadata": {},
   "source": [
    "### Unit2 model and task"
   ]
  },
  {
   "cell_type": "markdown",
   "metadata": {},
   "source": [
    "The model file for the experiment is actr7.x/tutorial/unit2/unit2-assignment-model.lisp.\n",
    "\n",
    "You can open that file to write the model using the File:Open menu in the Jupyter interface.\n",
    "\n",
    "Run the first cell below to connect to ACT-R and load the task and model.\n",
    "\n",
    "Run the second cell to have the model perform the task.\n",
    "\n",
    "If you change the model then you will need to run the third cell to reload the model or press the Reload button in the ACT-R Environment GUI to have the updated model loaded to run.\n"
   ]
  },
  {
   "cell_type": "code",
   "execution_count": null,
   "metadata": {},
   "outputs": [],
   "source": [
    "import actr\n",
    "import unit2"
   ]
  },
  {
   "cell_type": "code",
   "execution_count": null,
   "metadata": {},
   "outputs": [],
   "source": [
    "unit2.experiment()"
   ]
  },
  {
   "cell_type": "code",
   "execution_count": null,
   "metadata": {},
   "outputs": [],
   "source": [
    "actr.reload()"
   ]
  }
 ],
 "metadata": {
  "kernelspec": {
   "display_name": "Python 3",
   "language": "python",
   "name": "python3"
  },
  "language_info": {
   "codemirror_mode": {
    "name": "ipython",
    "version": 3
   },
   "file_extension": ".py",
   "mimetype": "text/x-python",
   "name": "python",
   "nbconvert_exporter": "python",
   "pygments_lexer": "ipython3",
   "version": "3.7.9"
  }
 },
 "nbformat": 4,
 "nbformat_minor": 4
}
