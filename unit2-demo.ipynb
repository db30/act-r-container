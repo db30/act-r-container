{
 "cells": [
  {
   "cell_type": "markdown",
   "metadata": {},
   "source": [
    "## Run the ACT-R tutorial unit 2 demo model in Python"
   ]
  },
 {
   "cell_type": "markdown",
   "metadata": {},
   "source": [
    "If you want to use the Stepper to go through the task you can open the ACT-R Environment GUI\n",
    "[Open ACT-R Environment GUI](./env-link.html)\n",
    "If you want to see the task and model's visual attention marker open an Experiment window viewer\n",
    "[View ACT-R Experiment Window](./exp-link.html)\n",
    "Run the first cell below to connect to ACT-R and load the task and model.\n",
    "Run the second cell to have the model perform the task."
   ]
  },
  {
   "cell_type": "code",
   "execution_count": null,
   "metadata": {},
   "outputs": [],
   "source": [
    "import actr\n",
    "import demo2"
   ]
  },
  {
   "cell_type": "code",
   "execution_count": null,
   "metadata": {},
   "outputs": [],
   "source": [
    "demo2.experiment()"
   ]
  }

 ],
 "metadata": {
  "kernelspec": {
   "display_name": "Python 3",
   "language": "python",
   "name": "python3"
  },
  "language_info": {
   "codemirror_mode": {
    "name": "ipython",
    "version": 3
   },
   "file_extension": ".py",
   "mimetype": "text/x-python",
   "name": "python",
   "nbconvert_exporter": "python",
   "pygments_lexer": "ipython3",
   "version": "3.7.9"
  }
 },
 "nbformat": 4,
 "nbformat_minor": 4
}
