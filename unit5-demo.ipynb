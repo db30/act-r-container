{
 "cells": [
  {
   "cell_type": "markdown",
   "metadata": {},
   "source": [
    "## Run the ACT-R tutorial unit 5 models in Python"
   ]
  },
  {
   "cell_type": "markdown",
   "metadata": {},
   "source": [
    "Here are links to open the ACT-R Environment GUI and an Experiment window viewer if needed  \n",
    "[Open ACT-R Environment GUI](./env-link.html)  \n",
    "[View ACT-R Experiment Window](./exp-link.html)  \n"
   ]
  },
  {
   "cell_type": "markdown",
   "metadata": {},
   "source": [
    "If you change a model file then you can run this cell to reload the current model or press the Reload button in the ACT-R Environment GUI to have the updated model loaded into ACT-R."
   ]
  },
  {
   "cell_type": "code",
   "execution_count": null,
   "metadata": {},
   "outputs": [],
   "source": [
    "actr.reload()"
   ]
  },
  {
   "cell_type": "markdown",
   "metadata": {},
   "source": [
    "### Fan Effect models and tasks"
   ]
  },
  {
   "cell_type": "markdown",
   "metadata": {},
   "source": [
    "### Fan Effect model and task with perceptual and motor actions"
   ]
  },
  {
   "cell_type": "markdown",
   "metadata": {},
   "source": [
    "The model file for this task is actr7.x/tutorial/unit5/fan-model.lisp.  \n",
    "You can open that file to edit the model using the File:Open menu in the Jupyter interface."
   ]
  },
  {
   "cell_type": "markdown",
   "metadata": {},
   "source": [
    "Run this cell to connect to ACT-R and load the task and the model which uses perceptual and motor actions."
   ]
  },
  {
   "cell_type": "code",
   "execution_count": null,
   "metadata": {},
   "outputs": [],
   "source": [
    "import actr\n",
    "import fan"
   ]
  },
  {
   "cell_type": "markdown",
   "metadata": {},
   "source": [
    "Run this cell to have the model perform one trial (see tutorial unit for details of the parameters)."
   ]
  },
  {
   "cell_type": "code",
   "execution_count": null,
   "metadata": {},
   "outputs": [],
   "source": [
    "fan.sentence('lawyer','store',True,'person')"
   ]
  },
  {
   "cell_type": "markdown",
   "metadata": {},
   "source": [
    "Run this cell to have the model perform all trials of the task and report the results.  \n",
    " You should turn off the trace in the model before running the whole experiment to avoid a long delay and excesive amount of trace information."
    ]
  },
  {
   "cell_type": "code",
   "execution_count": null,
   "metadata": {},
   "outputs": [],
   "source": [
    "fan.experiment()"
   ]
  },  
  {
   "cell_type": "markdown",
   "metadata": {},
   "source": [
    "### Fan Effect model and task which does not use perceptual and motor actions"
   ]
  },
  {
   "cell_type": "markdown",
   "metadata": {},
   "source": [
    "Run this cell to connect to ACT-R and load the task and the model which does not use perceptual and motor actions."
   ]
  },
  {
   "cell_type": "code",
   "execution_count": null,
   "metadata": {},
   "outputs": [],
   "source": [
    "import actr\n",
    "import fan_no_pm"
   ]
  },
  {
   "cell_type": "markdown",
   "metadata": {},
   "source": [
    "Run this cell to have the model perform one trial (see tutorial unit for details of the parameters)."
   ]
  },
  {
   "cell_type": "code",
   "execution_count": null,
   "metadata": {},
   "outputs": [],
   "source": [
    "fan_no_pm.sentence(\"'lawyer'\",\"'store'\",True,'person')"
   ]
  },
  {
   "cell_type": "markdown",
   "metadata": {},
   "source": [
    "Run this cell to have the model perform all trials of the task and report the results.  \n",
    " You should turn off the trace in the model before running the whole experiment to avoid a long delay and excesive amount of trace information."
   ]
  },
  {
   "cell_type": "code",
   "execution_count": null,
   "metadata": {},
   "outputs": [],
   "source": [
    "fan_no_pm.experiment()"
   ]
  },
  {
   "cell_type": "markdown",
   "metadata": {},
   "source": [
    "### Grouped Recall model"
   ]
  },
  {
   "cell_type": "markdown",
   "metadata": {},
   "source": [
    "The model file for this task is actr7.x/tutorial/unit5/grouped-model.lisp.  \n",
    "You can open that file to edit the model using the File:Open menu in the Jupyter interface."
    ]
  },
  {
   "cell_type": "markdown",
   "metadata": {},
   "source": [
    "Run this cell to connect to ACT-R and load the task and model."
   ]
  },
  {
   "cell_type": "code",
   "execution_count": null,
   "metadata": {},
   "outputs": [],
   "source": [
    "import actr\n",
    "import grouped"
   ]
  },
  {
   "cell_type": "markdown",
   "metadata": {},
   "source": [
    "Run this cell to run the model and return the list of items recalled."
   ]
  },
  {
   "cell_type": "code",
   "execution_count": null,
   "metadata": {},
   "outputs": [],
   "source": [
    "grouped.recall()"
   ]
  },
  {
   "cell_type": "markdown",
   "metadata": {},
   "source": [
    "### Siegler and Shrager addition task"
   ]
  },
  {
   "cell_type": "markdown",
   "metadata": {},
   "source": [
    "The model file for this task is actr7.x/tutorial/unit5/siegler-model.lisp.  \n",
    "You can open that file to edit the model using the File:Open menu in the Jupyter interface."
    ]
  },
  {
   "cell_type": "markdown",
   "metadata": {},
   "source": [
    "Run this cell to connect to ACT-R and load the task and model."
   ]
  },
  {
   "cell_type": "code",
   "execution_count": null,
   "metadata": {},
   "outputs": [],
   "source": [
    "import actr\n",
    "import siegler"
   ]
  },
  {
   "cell_type": "markdown",
   "metadata": {},
   "source": [
    "Run this cell to have the model perform one trial for the two numbers provided and return the result."
   ]
  },
  {
   "cell_type": "code",
   "execution_count": null,
   "metadata": {},
   "outputs": [],
   "source": [
    "siegler.trial(1,3)"
   ]
  },
  {
   "cell_type": "markdown",
   "metadata": {},
   "source": [
    "Run this cell to have the model perform all trials the indicated number of times and report the results."
   ]
  },
  {
   "cell_type": "code",
   "execution_count": null,
   "metadata": {},
   "outputs": [],
   "source": [
    "siegler.experiment(100)"
   ]
  }, 
  {
   "cell_type": "markdown",
   "metadata": {},
   "source": [
    "### 1-hit Blackjack assignment"]
  },
  {
   "cell_type": "markdown",
   "metadata": {},
   "source": [
    "The model file for this task is actr7.x/tutorial/unit5/1hit-blackjack-model.lisp.  \n",
    "You can open that file to edit the model using the File:Open menu in the Jupyter interface."
    ]
  },
  {
   "cell_type": "markdown",
   "metadata": {},
   "source": [
    "Run this cell to connect to ACT-R and load the task and model."
   ]
  },
  {
   "cell_type": "code",
   "execution_count": null,
   "metadata": {},
   "outputs": [],
   "source": [
    "import actr\n",
    "import onehit"
   ]
  },
  {
   "cell_type": "markdown",
   "metadata": {},
   "source": [
    "Run this cell to have the model play the indicated number of hands (without being reset)."
   ]
  },
  {
   "cell_type": "code",
   "execution_count": null,
   "metadata": {},
   "outputs": [],
   "source": [
    "onehit.hands(4)"
   ]
  },
  {
   "cell_type": "markdown",
   "metadata": {},
   "source": [
    "Run this cell to show the model's learning over the specified number of 100 hand games."
   ]
  },
  {
   "cell_type": "code",
   "execution_count": null,
   "metadata": {},
   "outputs": [],
   "source": [
    "onehit.learning(50)"
   ]
  }
 ],
 "metadata": {
  "kernelspec": {
   "display_name": "Python 3",
   "language": "python",
   "name": "python3"
  },
  "language_info": {
   "codemirror_mode": {
    "name": "ipython",
    "version": 3
   },
   "file_extension": ".py",
   "mimetype": "text/x-python",
   "name": "python",
   "nbconvert_exporter": "python",
   "pygments_lexer": "ipython3",
   "version": "3.7.9"
  }
 },
 "nbformat": 4,
 "nbformat_minor": 4
}
