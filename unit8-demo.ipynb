{
 "cells": [
  {
   "cell_type": "markdown",
   "metadata": {},
   "source": [
    "## Run the ACT-R tutorial unit 8 models in Python"
   ]
  },
  {
   "cell_type": "markdown",
   "metadata": {},
   "source": [
    "Here are links to open the ACT-R Environment GUI and an Experiment window viewer if needed  \n",
    "[Open ACT-R Environment GUI](./env-link.html)  \n",
    "[View ACT-R Experiment Window](./exp-link.html)  \n"
   ]
  },
  {
   "cell_type": "markdown",
   "metadata": {},
   "source": [
    "If you change a model file then you can run this cell to reload the current model or press the Reload button in the ACT-R Environment GUI to have the updated model loaded into ACT-R."
   ]
  },
  {
   "cell_type": "code",
   "execution_count": null,
   "metadata": {},
   "outputs": [],
   "source": [
    "actr.reload()"
   ]
  },
  {
   "cell_type": "markdown",
   "metadata": {},
   "source": [
    "### Example Procedural Partial Matching model"
   ]
  },
  {
   "cell_type": "markdown",
   "metadata": {},
   "source": [
    "The model file for this task is actr7.x/tutorial/unit8/simple-ppm-model.lisp.  \n",
    "You can open that file to edit the model using the File:Open menu in the Jupyter interface."
    ]
  },
  {
   "cell_type": "markdown",
   "metadata": {},
   "source": [
    "Run this cell to connect to ACT-R and load the model."
   ]
  },
  {
   "cell_type": "code",
   "execution_count": null,
   "metadata": {},
   "outputs": [],
   "source": [
    "import actr\n",
    "actr.load_act_r_model('ACT-R:tutorial;unit8;simple-ppm-model.lisp')"
   ]
  },
  {
   "cell_type": "markdown",
   "metadata": {},
   "source": [
    "Run this cell to reset the model and run it."
   ]
  },
  {
   "cell_type": "code",
   "execution_count": null,
   "metadata": {},
   "outputs": [],
   "source": [
    "actr.reset()\n",
    "actr.run(.5)"
   ]
  }, 
  {
   "cell_type": "markdown",
   "metadata": {},
   "source": [
    "### Building Sticks Task with Procedural Partial Matching"
   ]
  },
  {
   "cell_type": "markdown",
   "metadata": {},
   "source": [
    "The model file for this task is actr7.x/tutorial/unit8/bst-ppm-model.lisp.  \n",
    "You can open that file to edit the model using the File:Open menu in the Jupyter interface.  \n",
    "This is the same task as used in unit 6, and if you want to run it yourself or watch the model perform it see the unit6 page."
    ]
  },
  {
   "cell_type": "markdown",
   "metadata": {},
   "source": [
    "Run this cell to connect to ACT-R and load the task and model."
   ]
  },
  {
   "cell_type": "code",
   "execution_count": null,
   "metadata": {},
   "outputs": [],
   "source": [
    "import actr\n",
    "import bst_ppm"
   ]
  },
  {
   "cell_type": "markdown",
   "metadata": {},
   "source": [
    "Run this cell to have the model perform the whole experiment the indicated number of times and report the average results."
   ]
  },
  {
   "cell_type": "code",
   "execution_count": null,
   "metadata": {},
   "outputs": [],
   "source": [
    "bst_ppm.experiment(25)"
   ]
  },
  {
   "cell_type": "markdown",
   "metadata": {},
   "source": [
    "### Example Dynamic Pattern Matching model"
   ]
  },
  {
   "cell_type": "markdown",
   "metadata": {},
   "source": [
    "The model file for this task is actr7.x/tutorial/unit8/simple-dynamic-model.lisp.  \n",
    "You can open that file to edit the model using the File:Open menu in the Jupyter interface."
    ]
  },
  {
   "cell_type": "markdown",
   "metadata": {},
   "source": [
    "Run this cell to connect to ACT-R and load the model."
   ]
  },
  {
   "cell_type": "code",
   "execution_count": null,
   "metadata": {},
   "outputs": [],
   "source": [
    "import actr\n",
    "actr.load_act_r_model('ACT-R:tutorial;unit8;simple-dynamic-model.lisp')"
   ]
  },
  {
   "cell_type": "markdown",
   "metadata": {},
   "source": [
    "Run this cell to reset the model and run it."
   ]
  },
  {
   "cell_type": "code",
   "execution_count": null,
   "metadata": {},
   "outputs": [],
   "source": [
    "actr.reset()\n",
    "actr.run(5)"
   ]
  }, 
  {
   "cell_type": "markdown",
   "metadata": {},
   "source": [
    "### Semantic model with Dynamic Pattern Matching"
   ]
  },
  {
   "cell_type": "markdown",
   "metadata": {},
   "source": [
    "The model file for this task is actr7.x/tutorial/unit8/semantic-dynamic-model.lisp.  \n",
    "You can open that file to edit the model using the File:Open menu in the Jupyter interface."
    ]
  },
  {
   "cell_type": "markdown",
   "metadata": {},
   "source": [
    "Run this cell to connect to ACT-R and load the model."
   ]
  },
  {
   "cell_type": "code",
   "execution_count": null,
   "metadata": {},
   "outputs": [],
   "source": [
    "import actr\n",
    "actr.load_act_r_model('ACT-R:tutorial;unit8;semantic-dynamic-model.lisp')"
   ]
  },
  {
   "cell_type": "markdown",
   "metadata": {},
   "source": [
    "Run this cell to reset and run the model with the g1 goal chunk which is a search for whether a canary is a bird."
   ]
  },
  {
   "cell_type": "code",
   "execution_count": null,
   "metadata": {},
   "outputs": [],
   "source": [
    "actr.reset()\n",
    "actr.goal_focus('g1')\n",
    "actr.run(5)"
   ]
  }, 
  {
   "cell_type": "markdown",
   "metadata": {},
   "source": [
    "Run this cell to reset and run the model with the g2 goal chunk which is a search for whether a canary has wings."
   ]
  },
  {
   "cell_type": "code",
   "execution_count": null,
   "metadata": {},
   "outputs": [],
   "source": [
    "actr.reset()\n",
    "actr.goal_focus('g2')\n",
    "actr.run(5)"
   ]
  },
  {
   "cell_type": "markdown",
   "metadata": {},
   "source": [
    "Run this cell to run the model with the g2 goal chunk again to see that it has stored a specific chunk to indicate that a canary has wings."
   ]
  },
  {
   "cell_type": "code",
   "execution_count": null,
   "metadata": {},
   "outputs": [],
   "source": [
    "actr.goal_focus('g2')\n",
    "actr.run(5)"
   ]
  },
  {
   "cell_type": "markdown",
   "metadata": {},
   "source": [
    "Run this cell to reset and run the model with the g3 goal chunk which is a search for whether a canary is dangerous."
   ]
  },
  {
   "cell_type": "code",
   "execution_count": null,
   "metadata": {},
   "outputs": [],
   "source": [
    "actr.reset()\n",
    "actr.goal_focus('g3')\n",
    "actr.run(5)"
   ]
  }, 
  {
   "cell_type": "markdown",
   "metadata": {},
   "source": [
    "### Paired associate learning from instructions model with Dynamic Pattern Matching"
   ]
  },
  {
   "cell_type": "markdown",
   "metadata": {},
   "source": [
    "The model file for this task is actr7.x/tutorial/unit8/paired-dynamic-model.lisp.  \n",
    "You can open that file to edit the model using the File:Open menu in the Jupyter interface."
    ]
  },
  {
   "cell_type": "markdown",
   "metadata": {},
   "source": [
    "Run this cell to connect to ACT-R, load the task, and then load the model."
   ]
  },
  {
   "cell_type": "code",
   "execution_count": null,
   "metadata": {},
   "outputs": [],
   "source": [
    "import actr\n",
    "import paired\n",
    "actr.load_act_r_model('ACT-R:tutorial;unit8;paired-dynamic-model.lisp')"
   ]
  },
  {
   "cell_type": "markdown",
   "metadata": {},
   "source": [
    "Run this cell to have the model learn a given number of pairs over a specified number of trials."
   ]
  },
  {
   "cell_type": "code",
   "execution_count": null,
   "metadata": {},
   "outputs": [],
   "source": [
    "paired.task(2,3)"
   ]
  },
  {
   "cell_type": "markdown",
   "metadata": {},
   "source": [
    "Run this cell to have the model perform the whole experiment the indicated number of times.  \n",
    " You should turn off the trace in the model before running the whole experiment to avoid a long delay and an excesive amount of trace information."
   ]
  },
  {
   "cell_type": "code",
   "execution_count": null,
   "metadata": {},
   "outputs": [],
   "source": [
    "paired.experiment(1)"
   ]
  }, 
  {
   "cell_type": "markdown",
   "metadata": {},
   "source": [
    "### Categorization assignment"
   ]
  },
  {
   "cell_type": "markdown",
   "metadata": {},
   "source": [
    "The model file for this task is actr7.x/tutorial/unit8/categorize-model.lisp.  \n",
    "You can open that file to work on the model using the File:Open menu in the Jupyter interface.n"
   ]
  },
  {
   "cell_type": "markdown",
   "metadata": {},
   "source": [
    "Run this cell to connect to ACT-R and load the task and model."
   ]
  },
  {
   "cell_type": "code",
   "execution_count": null,
   "metadata": {},
   "outputs": [],
   "source": [
    "import actr\n",
    "import categorize"
   ]
  },
  {
   "cell_type": "markdown",
   "metadata": {},
   "source": [
    "Run this cell to present one attribute to the model using the name and value provided."
   ]
  },
  {
   "cell_type": "code",
   "execution_count": null,
   "metadata": {},
   "outputs": [],
   "source": [
    "categorize.attribute('size',-.9)"
   ]
  },
  {
   "cell_type": "markdown",
   "metadata": {},
   "source": [
    "Run this cell to have the model presented with four attributes to encode, and then be given a goal to categorize the item composed of those attributes."
   ]
  },
  {
   "cell_type": "code",
   "execution_count": null,
   "metadata": {},
   "outputs": [],
   "source": [
    "categorize.stimulus(1,-1,-1,-1)"
   ]
  },
  {
   "cell_type": "markdown",
   "metadata": {},
   "source": [
    "Run this cell to run the model through the 14 trials of the experiment the indicated number of times and report the results.  \n",
    "You can also add the optional parameters to that function call as described in the tutorial to test the model's ability to perform the task in a general way.",
    " You should turn off the trace in the model before running the whole experiment to avoid a long delay and excesive amount of trace information."
   ]
  },
  {
   "cell_type": "code",
   "execution_count": null,
   "metadata": {},
   "outputs": [],
   "source": [
    "categorize.experiment(1)"
   ]
  }
 ],
 "metadata": {
  "kernelspec": {
   "display_name": "Python 3",
   "language": "python",
   "name": "python3"
  },
  "language_info": {
   "codemirror_mode": {
    "name": "ipython",
    "version": 3
   },
   "file_extension": ".py",
   "mimetype": "text/x-python",
   "name": "python",
   "nbconvert_exporter": "python",
   "pygments_lexer": "ipython3",
   "version": "3.7.9"
  }
 },
 "nbformat": 4,
 "nbformat_minor": 4
}
