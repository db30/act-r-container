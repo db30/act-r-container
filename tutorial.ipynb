{
 "cells": [
  {
   "cell_type": "markdown",
   "metadata": {},
   "source": [
    "## Links to Run ACT-R tutorial models"
   ]
  },
 {
   "cell_type": "markdown",
   "metadata": {},
   "source": [
    "[Unit 1 models](./unit1-demo.ipynb)  \n",
    "[Unit 2 models](./unit2-demo.ipynb)  \n",
    "[Unit 3 models](./unit3-demo.ipynb)  \n",
    "[Unit 4 models](./unit4-demo.ipynb)  \n",
    "[Unit 5 models](./unit5-demo.ipynb)  \n",
    "[Unit 6 models](./unit6-demo.ipynb)  \n",
    "[Unit 7 models](./unit7-demo.ipynb)  \n",
    "[Unit 8 models](./unit8-demo.ipynb)"
   ]
  }

 ],
 "metadata": {
  "kernelspec": {
   "display_name": "Python 3",
   "language": "python",
   "name": "python3"
  },
  "language_info": {
   "codemirror_mode": {
    "name": "ipython",
    "version": 3
   },
   "file_extension": ".py",
   "mimetype": "text/x-python",
   "name": "python",
   "nbconvert_exporter": "python",
   "pygments_lexer": "ipython3",
   "version": "3.7.9"
  }
 },
 "nbformat": 4,
 "nbformat_minor": 4
}
