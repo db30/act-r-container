{
 "cells": [
   {
   "cell_type": "markdown",
   "metadata": {},
   "source": [
    "## Links to the ACT-R tutorial unit pdfs"
   ]
  },
  {
   "cell_type": "markdown",
   "metadata": {},
   "source": [
    "[Unit 1 main](./actr7.x/tutorial/unit1/unit1.pdf) [Unit 1 task code](./actr7.x/tutorial/unit1/unit1_code.pdf) [Unit 1 additional modeling information](./actr7.x/tutorial/unit1/unit1_modeling.pdf)  \n",
    "[Unit 2 main](./actr7.x/tutorial/unit2/unit2.pdf) [Unit 2 task code](./actr7.x/tutorial/unit2/unit2_code.pdf)  \n",
    "[Unit 3 main](./actr7.x/tutorial/unit3/unit3.pdf) [Unit 3 task code](./actr7.x/tutorial/unit3/unit3_code.pdf) [Unit 3 additional modeling information](./actr7.x/tutorial/unit3/unit3_modeling.pdf)  \n",
    "[Unit 4 main](./actr7.x/tutorial/unit4/unit4.pdf) [Unit 4 task code](./actr7.x/tutorial/unit4/unit4_code.pdf)  \n",
    "[Unit 5 main](./actr7.x/tutorial/unit5/unit5.pdf) [Unit 5 task code](./actr7.x/tutorial/unit5/unit5_code.pdf) [Unit 5 additional modeling information](./actr7.x/tutorial/unit5/unit5_modeling.pdf)  \n",
    "[Unit 6 main](./actr7.x/tutorial/unit6/unit6.pdf) [Unit 6 task code](./actr7.x/tutorial/unit6/unit6_code.pdf)  \n",
    "[Unit 7 main](./actr7.x/tutorial/unit7/unit7.pdf) [Unit 7 task code](./actr7.x/tutorial/unit7/unit7_code.pdf) [Unit 7 additional modeling information](./actr7.x/tutorial/unit7/unit7_modeling.pdf)  \n",
    "[Unit 8 main](./actr7.x/tutorial/unit8/unit8.pdf) [Unit 8 task code](./actr7.x/tutorial/unit8/unit8_code.pdf)"
   ]
  },
  {
   "cell_type": "markdown",
   "metadata": {},
   "source": [
    "## Links to notebook pages where you can run the ACT-R tutorial models"
   ]
  },
  {
   "cell_type": "markdown",
   "metadata": {},
   "source": [
    "[Unit 1 models](./unit1-demo.ipynb)  \n",
    "[Unit 2 models](./unit2-demo.ipynb)  \n",
    "[Unit 3 models](./unit3-demo.ipynb)  \n",
    "[Unit 4 models](./unit4-demo.ipynb)  \n",
    "[Unit 5 models](./unit5-demo.ipynb)  \n",
    "[Unit 6 models](./unit6-demo.ipynb)  \n",
    "[Unit 7 models](./unit7-demo.ipynb)  \n",
    "[Unit 8 models](./unit8-demo.ipynb)"
   ]
  }
 ],
 "metadata": {
  "kernelspec": {
   "display_name": "Python 3",
   "language": "python",
   "name": "python3"
  },
  "language_info": {
   "codemirror_mode": {
    "name": "ipython",
    "version": 3
   },
   "file_extension": ".py",
   "mimetype": "text/x-python",
   "name": "python",
   "nbconvert_exporter": "python",
   "pygments_lexer": "ipython3",
   "version": "3.7.9"
  }
 },
 "nbformat": 4,
 "nbformat_minor": 4
}
